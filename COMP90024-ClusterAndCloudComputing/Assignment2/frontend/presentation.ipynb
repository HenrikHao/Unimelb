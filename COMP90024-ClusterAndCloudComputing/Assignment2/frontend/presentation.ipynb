{
 "cells": [
  {
   "cell_type": "markdown",
   "metadata": {},
   "source": [
    "<h4>COMP90024 Project Team 1 <br>\n",
    "Authors:<br>\n",
    "- Henrik Hao (1255309)<br>\n",
    "- Haoyi Li (1237964)<br>\n",
    "- Zilin Su (1155122)<br>\n",
    "- Angela Yifei Yuan (1269549) </h4>"
   ]
  },
  {
   "cell_type": "code",
   "execution_count": null,
   "metadata": {},
   "outputs": [],
   "source": [
    "# install and import\n",
    "# pip install seaborn\n",
    "# pip install folium\n",
    "\n",
    "import requests\n",
    "import pandas as pd\n",
    "import json\n",
    "import requests\n",
    "import matplotlib.pyplot as plt\n",
    "import seaborn as sns\n",
    "import geopandas as gpd\n",
    "from shapely.wkt import loads\n",
    "import folium\n",
    "import warnings\n",
    "\n",
    "from branca.element import Template, MacroElement\n",
    "warnings.filterwarnings('ignore', category=FutureWarning) "
   ]
  },
  {
   "cell_type": "markdown",
   "metadata": {},
   "source": [
    "## Two scenarios:\n",
    "### Do the bushfires affect the NSW air quality? 🔥🔥🔥\n",
    "\n",
    "\n",
    "### Are respiratory diseases caused by poor air quality? 😷😷😷\n",
    "\n",
    "\n",
    "\n",
    "\n"
   ]
  },
  {
   "cell_type": "markdown",
   "metadata": {},
   "source": [
    "## Motivation\n",
    "* #### Since the year 2000, bushfires in the peri-urban areas of southeastern Australia have resulted in the loss of more than 200 lives and necessitated emergency assistance for nearly 18000 individuals.\n",
    "* #### The long-term effects of bushfires on the air quality should not be ignored.\n",
    "* #### Related to our life and people are active to talk about weather and air quality on Mastodon\n",
    "\n",
    "<img src=\"pictures_in_markdown\\mastodon-word.png\" width=\"700\" height=\"300\">\n",
    "\n",
    "<img src=\"pictures_in_markdown/weather_topic_frequency.jpg\" width=\"650\" height=\"400\">\n",
    "\n",
    "\n"
   ]
  },
  {
   "cell_type": "code",
   "execution_count": null,
   "metadata": {},
   "outputs": [],
   "source": [
    "# Use api to get bushfire\n",
    "bushfire = (requests.get('http://localhost:9090/bushfireget')).json()\n",
    "bushfire_df = pd.DataFrame(bushfire)\n"
   ]
  },
  {
   "cell_type": "code",
   "execution_count": null,
   "metadata": {},
   "outputs": [],
   "source": [
    "def plot_annual_bushfire_trends(bushfire_df):\n",
    "    '''Define a function to plot annual bushfire trends\n",
    "    Parameters:\n",
    "    - bushfire_df: A dataframe about bushfire\n",
    "    Returns:\n",
    "        None, but will show plots\n",
    "    '''\n",
    "    # Ensure ignition_date is in datetime format and set as index\n",
    "    if not pd.api.types.is_datetime64_any_dtype(bushfire_df['ignition_date']):\n",
    "        bushfire_df['ignition_date'] = pd.to_datetime(bushfire_df['ignition_date'])\n",
    "    if bushfire_df.index.name != 'ignition_date':\n",
    "        bushfire_df = bushfire_df.set_index('ignition_date')\n",
    "        \n",
    "    # Calculate annual total fire area and number of fires\n",
    "    annual_fire_area = bushfire_df['area_ha'].resample('AS').sum()\n",
    "    annual_fires = bushfire_df.resample('AS').size()\n",
    "\n",
    "    # Create subplots\n",
    "    fig, axs = plt.subplots(2, 1, figsize=(8, 8))\n",
    "    \n",
    "    # Plot for total fire area\n",
    "    axs[0].plot(annual_fire_area, label='Total Fire Area', color='red')\n",
    "    axs[0].set_title('Annually Total Fire Area in NSW')\n",
    "    axs[0].set_ylabel('Total Fire Area (hectares)')\n",
    "    axs[0].grid(True)\n",
    "\n",
    "    # Plot for number of fires\n",
    "    axs[1].plot(annual_fires, label='Number of Fires', color='blue')\n",
    "    axs[1].set_title('Annually Fire Occurrences in NSW')\n",
    "    axs[1].set_xlabel('Year')\n",
    "    axs[1].set_ylabel('Number of Fires')\n",
    "    axs[1].grid(True)\n",
    "\n",
    "    # Show the plots\n",
    "    plt.tight_layout()\n",
    "    plt.show()\n",
    "    return\n",
    "\n",
    "\n"
   ]
  },
  {
   "cell_type": "markdown",
   "metadata": {},
   "source": [
    "### <span style=\"color:Yellow\">**Relationship between bushfires and air quality**</span>"
   ]
  },
  {
   "cell_type": "markdown",
   "metadata": {},
   "source": [
    "#### What we found:\n",
    "* #### 2019 was the most severe year for bushfires, with the highest occurrences and largest total areas.\n",
    "* #### After 2019, the number and area of fires decreased significantly (maybe due to COVID-19?)."
   ]
  },
  {
   "cell_type": "code",
   "execution_count": null,
   "metadata": {},
   "outputs": [],
   "source": [
    "plot_annual_bushfire_trends(bushfire_df)"
   ]
  },
  {
   "cell_type": "code",
   "execution_count": null,
   "metadata": {},
   "outputs": [],
   "source": [
    "def plot_pivot_table_annually_monthly(bushfire_df):\n",
    "    '''Define a function to plot fire occurences per year per month\n",
    "    Parameters:\n",
    "    - bushfire_df: A dataframe about bushfire\n",
    "    Returns:\n",
    "        None, but will show plots\n",
    "    '''\n",
    "    # extract year and month\n",
    "    if not pd.api.types.is_datetime64_any_dtype(bushfire_df['ignition_date']):\n",
    "        bushfire_df['ignition_date'] = pd.to_datetime(bushfire_df['ignition_date'])\n",
    "    if bushfire_df.index.name != 'ignition_date':\n",
    "        bushfire_df = bushfire_df.set_index('ignition_date')\n",
    "\n",
    "    bushfire_df['year'] = bushfire_df.index.year\n",
    "    bushfire_df['month'] = bushfire_df.index.month\n",
    "\n",
    "    # frequency of bushfire per month\n",
    "    fire_counts = bushfire_df.pivot_table(index='year', columns='month', aggfunc='size', fill_value=0)\n",
    "\n",
    "    plt.figure(figsize=(8, 6))\n",
    "    sns.heatmap(fire_counts, annot=True, fmt=\"d\", cmap='YlOrRd', linewidths=.5)\n",
    "    plt.title('Fire Occurrences by Month and Year')\n",
    "    plt.xlabel('Month')\n",
    "    plt.ylabel('Year')\n",
    "    plt.show()\n",
    "\n",
    "    return\n"
   ]
  },
  {
   "cell_type": "markdown",
   "metadata": {},
   "source": [
    "#### What we found:\n",
    "* #### Summer is the season with the highest incidence of fires (from September to December and January)\n",
    "* #### Few occurrences of bushfires in winter (from April to July).\n",
    "* #### Notably, November, December of 2019, and October of 2013 are the worst bushfire periods."
   ]
  },
  {
   "cell_type": "code",
   "execution_count": null,
   "metadata": {},
   "outputs": [],
   "source": [
    "plot_pivot_table_annually_monthly(bushfire_df)"
   ]
  },
  {
   "cell_type": "markdown",
   "metadata": {},
   "source": [
    "#### However, \n",
    "#### the map below shows that although the frequency of fires was high in 2013, they were small and spread out, whereas there were more large fires in 2019, and they were more concentrated.\n",
    "\n",
    "<img src=\"pictures_in_markdown/2016%20and%202019%20fire.png\" width=\"800\" height=\"350\">"
   ]
  },
  {
   "cell_type": "code",
   "execution_count": null,
   "metadata": {},
   "outputs": [],
   "source": [
    "# get the average air quality each month (PM2.5, PM10 and Ozone) from 2013 to 2021 \n",
    "air_quality_year = (requests.get('http://localhost:9090//combine-bushfire/start/2013/end/2021')).json() \n",
    "air_quality_year = pd.DataFrame(air_quality_year)\n",
    "air_quality_year"
   ]
  },
  {
   "cell_type": "code",
   "execution_count": null,
   "metadata": {},
   "outputs": [],
   "source": [
    "def air_quality_measure_annually_monthly(air_quality_year):\n",
    "    pivot_pm25 = air_quality_year.pivot_table(index='Year', columns='Month', values='Average PM2.5', aggfunc='mean')\n",
    "    pivot_pm10 = air_quality_year.pivot_table(index='Year', columns='Month', values='Average PM10', aggfunc='mean')\n",
    "    # pivot_ozone = air_quality_year.pivot_table(index='Year', columns='Month', values='Average Ozone', aggfunc='mean')\n",
    "\n",
    "    sns.set(style=\"white\")\n",
    "    # PM2.5\n",
    "    plt.figure(figsize=(8, 6))\n",
    "    sns.heatmap(pivot_pm25, annot=True, cmap='YlOrRd', fmt=\".1f\")\n",
    "    plt.title('Annual and Monthly Average PM2.5')\n",
    "    plt.show()\n",
    "\n",
    "    # PM10\n",
    "    plt.figure(figsize=(8, 6))\n",
    "    sns.heatmap(pivot_pm10, annot=True, cmap='YlOrRd', fmt=\".1f\")\n",
    "    plt.title('Annual and Monthly Average PM10')\n",
    "    plt.show()\n",
    "\n",
    "    # # Ozone\n",
    "    # plt.figure(figsize=(8, 6))\n",
    "    # sns.heatmap(pivot_ozone, annot=True, cmap='YlOrRd', fmt=\".2f\")\n",
    "    # plt.title('Annual and Monthly Average Ozone')\n",
    "    # plt.show()\n",
    "    # return\n",
    "\n"
   ]
  },
  {
   "cell_type": "markdown",
   "metadata": {},
   "source": [
    "#### Study shows that ambient ozone concentrations are associated with sinusitis and hay fever, while **particulate matter is associated with more serious respiratory diseases**. Therefore, we will mainly focus on pm2.5 and pm10. \n",
    "#### From the pivot tables below, we found:\n",
    "* #### Air quality in November and December of 2019 was inferior, with the highest concentrations of PM2.5 and PM10. \n",
    "* #### The result is consistent with results above, so the occurrence of bushfires may affect the air quality."
   ]
  },
  {
   "cell_type": "code",
   "execution_count": null,
   "metadata": {},
   "outputs": [],
   "source": [
    "air_quality_measure_annually_monthly(air_quality_year)"
   ]
  },
  {
   "cell_type": "markdown",
   "metadata": {},
   "source": [
    "#### In the first scenario we reckon:\n",
    "* #### The impact of a large fire should be significant and affect the entire NSW, \n",
    "* #### while, impact of small fire should be insignificant and only affect the surrounding air quality. \n",
    "\n",
    "\n",
    "#### The data was selected from 2016 to 2021. 2019 was the worst year for fires, and 2016 was a relatively normal year for fires in the selected range (not considering the year attacked by COVID-19). Therefore, we will focus on the data of 2016 and 2019."
   ]
  },
  {
   "cell_type": "code",
   "execution_count": null,
   "metadata": {},
   "outputs": [],
   "source": [
    "def find_site_each_year(year):\n",
    "    columns = ['siteid', 'phacode', 'timestamp', 'geometry', 'sitename', 'pm10', 'pm2p5', 'ozone']\n",
    "    response = requests.get(f'http://localhost:9090/getairquality/yearsites/{year}')\n",
    "    site_year = response.json()\n",
    "\n",
    "    site_dfs = [pd.DataFrame([site['_source'].values()], columns=columns) for site in site_year]\n",
    "\n",
    "    site_year_clean = pd.concat(site_dfs, ignore_index=True).dropna(subset=['pm10', 'pm2p5', 'ozone'], how='all')\n",
    "    \n",
    "    site_year_clean['timestamp'] = pd.to_datetime(site_year_clean['timestamp'])\n",
    "    site_year_clean = site_year_clean.set_index('timestamp')\n",
    "    site_year_clean['year'] = site_year_clean.index.year\n",
    "    site_year_clean['month'] = site_year_clean.index.month\n",
    "\n",
    "    site_year_clean['geometry'] = site_year_clean['geometry'].apply(loads)\n",
    "    site_year_clean = gpd.GeoDataFrame(site_year_clean, geometry='geometry')\n",
    "    site_year_clean = site_year_clean.set_crs(\"EPSG:4326\")\n",
    "\n",
    "    return site_year_clean"
   ]
  },
  {
   "cell_type": "code",
   "execution_count": null,
   "metadata": {},
   "outputs": [],
   "source": [
    "def find_near_far_site(year, site_year_df, index_name, bushfire_df):\n",
    "    bushfire_df['ignition_date'] = pd.to_datetime(bushfire_df['ignition_date'])\n",
    "    bushfire_df = bushfire_df.set_index('ignition_date')\n",
    "    bushfire_df['year'] = bushfire_df.index.year\n",
    "    bushfire_df['month'] = bushfire_df.index.month\n",
    "    bushfire_df['geometry'] = bushfire_df['geometry'].apply(loads)\n",
    "    bushfire_gdf = gpd.GeoDataFrame(bushfire_df, geometry='geometry')\n",
    "    bushfire_gdf = bushfire_gdf.set_crs(\"EPSG:4326\")\n",
    "    \n",
    "    bushfire_year_gdf = bushfire_gdf[bushfire_gdf['year'] == year]\n",
    "    merged_gdf = pd.merge(site_year_df, bushfire_year_gdf, on='month')\n",
    "\n",
    "    points = merged_gdf[['month', 'siteid', 'geometry_x', index_name]].copy().drop_duplicates()\n",
    "    polygons = merged_gdf[['month', 'geometry_y', 'area_ha']].copy().drop_duplicates()\n",
    "\n",
    "    nearest_farthest_data = []\n",
    "\n",
    "    # Only compare distance under the same month \n",
    "    for month in polygons['month'].unique():\n",
    "        month_polygons = polygons[polygons['month'] == month]\n",
    "        month_points = points[points['month'] == month]\n",
    "        \n",
    "        for index, poly in month_polygons.iterrows():\n",
    "            # Calculate distance between site and fire polygon\n",
    "            month_points['distance'] = month_points.apply(lambda row: row['geometry_x'].distance(poly['geometry_y']), axis=1)\n",
    "            # Find the nearest and farthest site\n",
    "            nearest_point = month_points.loc[month_points['distance'].idxmin()]\n",
    "            farthest_point = month_points.loc[month_points['distance'].idxmax()]\n",
    "\n",
    "            nearest_farthest_data.append({\n",
    "                'month': month,\n",
    "                'area': poly['area_ha'],\n",
    "                'Nearest Site ID': nearest_point['siteid'],\n",
    "                f'{index_name}_near': nearest_point[index_name],\n",
    "                f'{index_name}_far': farthest_point[index_name],\n",
    "                'Farthest Site ID': farthest_point['siteid'],\n",
    "            })\n",
    "\n",
    "    nearest_farthest_df = pd.concat([pd.DataFrame([data]) for data in nearest_farthest_data], ignore_index=True)\n",
    "    \n",
    "    return nearest_farthest_df"
   ]
  },
  {
   "cell_type": "markdown",
   "metadata": {},
   "source": [
    "#### Observing the concentration of PM2.5 and PM10 at the **nearest** and **farthest** sites is an intuitive way."
   ]
  },
  {
   "cell_type": "code",
   "execution_count": null,
   "metadata": {},
   "outputs": [],
   "source": [
    "def bushfire_site_box_plot(year, index, site_year_df, bushfire_df):\n",
    "    ### large range bushfire\n",
    "    near_far_year = find_near_far_site(year, site_year_df, index, bushfire_df)\n",
    "    large_bushfire = near_far_year[near_far_year['area'] > 100]\n",
    "    melted_large = large_bushfire.melt(id_vars=['month', 'area', 'Nearest Site ID'], \n",
    "                        value_vars=[f'{index}_near', f'{index}_far'], \n",
    "                        var_name='Measurement', value_name='Value')\n",
    "\n",
    "    ### small range bushfire\n",
    "\n",
    "    small_bushfire = near_far_year[near_far_year['area'] <= 5]\n",
    "    melted_small = small_bushfire.melt(id_vars=['month', 'area', 'Nearest Site ID'], \n",
    "                        value_vars=[f'{index}_near', f'{index}_far'], \n",
    "                        var_name='Measurement', value_name='Value')\n",
    "\n",
    "\n",
    "    plt.figure(figsize=(6, 4))\n",
    "    sns.boxplot(x='month', y='Value', hue='Measurement', data=melted_small)\n",
    "    plt.title(f'Monthly Comparison of {index}_near and {index}_far for small bushfire in {year}')\n",
    "    plt.xlabel('Month')\n",
    "    plt.ylabel('Concentration')\n",
    "    plt.legend(title='Measurement')\n",
    "    plt.grid(True)\n",
    "    plt.show()\n",
    "\n",
    "\n",
    "    plt.figure(figsize=(6, 4))\n",
    "    sns.boxplot(x='month', y='Value', hue='Measurement', data=melted_large)\n",
    "    plt.title(f'Monthly Comparison of {index}_near and {index}_far for large bushfire in {year}')\n",
    "    plt.xlabel('Month')\n",
    "    plt.ylabel('Concentration')\n",
    "    plt.legend(title='Measurement')\n",
    "    plt.grid(True)\n",
    "    plt.show()\n",
    "    return "
   ]
  },
  {
   "cell_type": "markdown",
   "metadata": {},
   "source": [
    "### For 2016"
   ]
  },
  {
   "cell_type": "markdown",
   "metadata": {},
   "source": [
    "#### The box plots below represent:\n",
    "\n",
    "* #### There were more small fires than large fires in 2016. \n",
    "* #### In Winter, when there are fewer fires, the PM10 concentration measured at the nearest site is even lower than that at the farthest site in other months."
   ]
  },
  {
   "cell_type": "code",
   "execution_count": null,
   "metadata": {},
   "outputs": [],
   "source": [
    "bushfire_site_box_plot(2016, 'pm10',find_site_each_year(2016), bushfire_df)\n"
   ]
  },
  {
   "cell_type": "markdown",
   "metadata": {},
   "source": [
    "### For 2019"
   ]
  },
  {
   "cell_type": "markdown",
   "metadata": {},
   "source": [
    "#### The overall air quality is much worse than that in 2016. \n",
    "* #### Because there were many large fires in 2019. \n",
    "#### The difference between the nearest and farthest concentration is slight for large fires. \n",
    "* #### As we envisioned, the impact of large fires on the entire NSW cannot be underestimated."
   ]
  },
  {
   "cell_type": "code",
   "execution_count": null,
   "metadata": {},
   "outputs": [],
   "source": [
    "bushfire_site_box_plot(2019, 'pm10',find_site_each_year(2019), bushfire_df)"
   ]
  },
  {
   "cell_type": "markdown",
   "metadata": {},
   "source": [
    "\n",
    "### <span style=\"color:Yellow\">**Relationship between admission and bushfires**</span>"
   ]
  },
  {
   "cell_type": "markdown",
   "metadata": {},
   "source": [
    "### What we found:\n",
    "\n",
    "* #### Compared with 2016-2019, the number of respiratory admissions in 2020 and 2021 shows a significant decrease. \n",
    "\n",
    "* #### People are more likely to get respiratory diseases in winter."
   ]
  },
  {
   "cell_type": "markdown",
   "metadata": {},
   "source": [
    "<img src=\"pictures_in_markdown/2016_2021_admissions_nsw.png\" width=\"800\" height=\"500\">\n",
    "\n",
    "\n",
    "\n",
    "\n",
    "\n"
   ]
  },
  {
   "cell_type": "markdown",
   "metadata": {},
   "source": [
    "<br>\n",
    "\n",
    "#### To show the relationship between the number of admissions and the frequency of bushfires, we analyzed the data in two aspects:\n",
    "\n",
    "- #### Compared the percentage of admissions and the percentage of bushfires each year from 2016 to 2021.\n",
    "- #### Compared the percentage of admissions and the percentage of bushfires each month from 2016 to 2021.\n",
    "\n",
    "#### We chose to use percentages to scale the number of bushfires and the number of admissions to the same numeric level."
   ]
  },
  {
   "cell_type": "markdown",
   "metadata": {},
   "source": [
    "<img src=\"pictures_in_markdown/admision_bushfire_yealy.png\" width=\"600\" height=\"400\">\n",
    "<img src=\"pictures_in_markdown/admission_bushfire_monthly.png\" width=\"600\" height=\"400\">"
   ]
  },
  {
   "cell_type": "markdown",
   "metadata": {},
   "source": [
    "#### The left graph shows that when fires are widespread, the increase in admission rates is not very significant. \n",
    "\n",
    "#### The right illustrates that bushfires usually occur in summer, while the number of admissions typically increases in winter. <br> This indicates that the admission rate may be more related to the seasons (temperatures).\n",
    "\n",
    "<br>\n",
    "<br>\n",
    "\n",
    "<img src=\"pictures_in_markdown/admission_bushfire_airquality.png\" width=\"600\" height=\"400\">\n",
    "\n"
   ]
  },
  {
   "cell_type": "markdown",
   "metadata": {},
   "source": [
    "### In conclusion, bushfires affect air quality and that large bushfires have a much more comprehensive range of impacts that can cover the entire NSW. However, although air quality affects the respiratory system, the development of respiratory disease is not solely determined by air quality.\n",
    "\n"
   ]
  }
 ],
 "metadata": {
  "kernelspec": {
   "display_name": "Python 3",
   "language": "python",
   "name": "python3"
  },
  "language_info": {
   "codemirror_mode": {
    "name": "ipython",
    "version": 3
   },
   "file_extension": ".py",
   "mimetype": "text/x-python",
   "name": "python",
   "nbconvert_exporter": "python",
   "pygments_lexer": "ipython3",
   "version": "3.11.4"
  }
 },
 "nbformat": 4,
 "nbformat_minor": 2
}
