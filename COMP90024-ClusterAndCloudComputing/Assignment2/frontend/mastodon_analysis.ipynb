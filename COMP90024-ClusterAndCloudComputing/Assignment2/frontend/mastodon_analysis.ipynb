{
 "cells": [
  {
   "cell_type": "markdown",
   "metadata": {},
   "source": [
    "COMP90024 Project Team 1\n",
    "\n",
    "Authors:\n",
    "- Zhuoyang Hao (1255309)\n",
    "- Haoyi Li (1237964)\n",
    "- Zilin Su (1155122)\n",
    "- Angela Yifei Yuan (1269549)"
   ]
  },
  {
   "cell_type": "code",
   "execution_count": 1,
   "metadata": {},
   "outputs": [],
   "source": [
    "import requests"
   ]
  },
  {
   "cell_type": "code",
   "execution_count": 2,
   "metadata": {},
   "outputs": [],
   "source": [
    "request_toots = requests.get(\"http://localhost:9090/getalltoots\")"
   ]
  },
  {
   "cell_type": "code",
   "execution_count": 3,
   "metadata": {},
   "outputs": [],
   "source": [
    "data = request_toots.json()"
   ]
  },
  {
   "cell_type": "code",
   "execution_count": 4,
   "metadata": {},
   "outputs": [],
   "source": [
    "content_list = [item['_source']['content'] for item in data]"
   ]
  },
  {
   "cell_type": "code",
   "execution_count": 5,
   "metadata": {},
   "outputs": [
    {
     "data": {
      "text/plain": [
       "3829"
      ]
     },
     "execution_count": 5,
     "metadata": {},
     "output_type": "execute_result"
    }
   ],
   "source": [
    "len(content_list)"
   ]
  },
  {
   "cell_type": "code",
   "execution_count": 6,
   "metadata": {},
   "outputs": [],
   "source": [
    "remove_none_content_list = [content for content in content_list if content]"
   ]
  },
  {
   "cell_type": "code",
   "execution_count": 14,
   "metadata": {},
   "outputs": [],
   "source": [
    "total_toots = len(remove_none_content_list)"
   ]
  },
  {
   "cell_type": "code",
   "execution_count": 8,
   "metadata": {},
   "outputs": [
    {
     "name": "stderr",
     "output_type": "stream",
     "text": [
      "[nltk_data] Downloading package punkt to\n",
      "[nltk_data]     /Users/henrik_hao/nltk_data...\n",
      "[nltk_data]   Package punkt is already up-to-date!\n",
      "[nltk_data] Downloading package stopwords to\n",
      "[nltk_data]     /Users/henrik_hao/nltk_data...\n",
      "[nltk_data]   Package stopwords is already up-to-date!\n",
      "[nltk_data] Downloading package wordnet to\n",
      "[nltk_data]     /Users/henrik_hao/nltk_data...\n",
      "[nltk_data]   Package wordnet is already up-to-date!\n"
     ]
    }
   ],
   "source": [
    "import nltk\n",
    "from nltk.corpus import stopwords\n",
    "from nltk.stem import WordNetLemmatizer\n",
    "from nltk.tokenize import word_tokenize\n",
    "import re\n",
    "\n",
    "# Download necessary NLTK resources\n",
    "nltk.download('punkt')\n",
    "nltk.download('stopwords')\n",
    "nltk.download('wordnet')\n",
    "\n",
    "# Initialize NLTK's lemmatizer and stopwords list\n",
    "lemmatizer = WordNetLemmatizer()\n",
    "stop_words = set(stopwords.words('english'))\n",
    "\n",
    "def preprocess_text(sentence):\n",
    "    # Tokenize the sentence\n",
    "    words = word_tokenize(sentence) \n",
    "    # Clean and lowercase each word\n",
    "    words = [re.sub(r\"[^\\w']\", '', word).lower() for word in words] \n",
    "    # Remove stopwords and empty strings\n",
    "    words = [word for word in words if word not in stop_words and word != '']\n",
    "    #lemmatize each word\n",
    "    words = [lemmatizer.lemmatize(word) for word in words]\n",
    "\n",
    "    return words"
   ]
  },
  {
   "cell_type": "code",
   "execution_count": 9,
   "metadata": {},
   "outputs": [],
   "source": [
    "preprocessed_content_list = [preprocess_text(sentence) for sentence in remove_none_content_list]"
   ]
  },
  {
   "cell_type": "code",
   "execution_count": 10,
   "metadata": {},
   "outputs": [],
   "source": [
    "weather_keywords = [\n",
    "    'weather', 'temperature', 'rain', 'snow', 'storm', 'wind', 'cloud', 'sunny',\n",
    "    'humid', 'humidity', 'forecast', 'climate', 'thunder', 'lightning', 'cold',\n",
    "    'hot', 'warm', 'cool', 'freezing', 'breeze', 'hail', 'flood', 'drought', 'aurora'\n",
    "]\n",
    "\n",
    "air_quality_keywords = [\n",
    "    'air', 'quality', 'pollution', 'pm10', 'pm2.5', 'ozone', 'aqi', 'smog', 'haze',\n",
    "    'clean', 'dirty', 'particles', 'particulate', 'emission', 'carbon', 'co2',\n",
    "    'monoxide', 'dioxide', 'so2', 'sulfur', 'methane', 'nh3', 'ammonia', 'nox',\n",
    "    'no2', 'nitrogen'\n",
    "]\n",
    "\n",
    "def is_weather_related(tokens, weather_keywords):\n",
    "    for token in tokens:\n",
    "        if token in weather_keywords:\n",
    "            return True\n",
    "    return False\n",
    "\n",
    "def is_air_quality_related(tokens, air_quality_keywords):\n",
    "    for token in tokens:\n",
    "        if token in air_quality_keywords:\n",
    "            return True\n",
    "    return False\n",
    "\n",
    "weather_related = [\n",
    "    tokens for tokens in preprocessed_content_list if is_weather_related(tokens, weather_keywords)\n",
    "]\n",
    "aq_related = [\n",
    "    tokens for tokens in preprocessed_content_list if is_air_quality_related(tokens, air_quality_keywords)\n",
    "]"
   ]
  },
  {
   "cell_type": "code",
   "execution_count": 15,
   "metadata": {},
   "outputs": [],
   "source": [
    "weather_related_toots = len(weather_related)"
   ]
  },
  {
   "cell_type": "code",
   "execution_count": 16,
   "metadata": {},
   "outputs": [],
   "source": [
    "aq_related_toots = len(aq_related)"
   ]
  },
  {
   "cell_type": "code",
   "execution_count": 17,
   "metadata": {},
   "outputs": [
    {
     "data": {
      "image/png": "[encoded data removed]",
      "text/plain": [
       "<Figure size 1000x600 with 1 Axes>"
      ]
     },
     "metadata": {},
     "output_type": "display_data"
    }
   ],
   "source": [
    "import matplotlib.pyplot as plt\n",
    "data = [total_toots, weather_related_toots, aq_related_toots]\n",
    "labels = ['Total Toots', 'Weather Related Toots', 'AQ Related Toots']\n",
    "\n",
    "# Plotting the histogram\n",
    "plt.figure(figsize=(10, 6))\n",
    "plt.bar(labels, data, color=['blue', 'green', 'red'])\n",
    "plt.xlabel('Categories')\n",
    "plt.ylabel('Number of Toots')\n",
    "plt.title('Distribution of Toots')\n",
    "plt.show()"
   ]
  },
  {
   "cell_type": "code",
   "execution_count": null,
   "metadata": {},
   "outputs": [],
   "source": []
  }
 ],
 "metadata": {
  "language_info": {
   "name": "python"
  }
 },
 "nbformat": 4,
 "nbformat_minor": 2
}
