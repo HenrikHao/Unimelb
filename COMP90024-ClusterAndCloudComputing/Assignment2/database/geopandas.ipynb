{
 "cells": [
  {
   "cell_type": "markdown",
   "metadata": {},
   "source": [
    "COMP90024 Project Team 1\n",
    "\n",
    "Authors:\n",
    "- Henrik Hao (1255309)\n",
    "- Haoyi Li (1237964)\n",
    "- Zilin Su (1155122)\n",
    "- Angela Yifei Yuan (1269549)"
   ]
  },
  {
   "cell_type": "code",
   "execution_count": null,
   "metadata": {},
   "outputs": [],
   "source": [
    "pip install geopandas"
   ]
  },
  {
   "cell_type": "code",
   "execution_count": 10,
   "metadata": {},
   "outputs": [
    {
     "name": "stdout",
     "output_type": "stream",
     "text": [
      "No matching PHA found for the coordinates.\n"
     ]
    }
   ],
   "source": [
    "import geopandas as gpd\n",
    "from shapely.geometry import Point\n",
    "\n",
    "# Load LGA boundary data into a GeoDataFrame\n",
    "pha_gdf = gpd.read_file(\"PHA_2016_AUST_Gen50.shp\")\n",
    "\n",
    "# Define the coordinates you want to convert to PHA\n",
    "latitude = -33.8688 # this is sydney's coordinate\n",
    "longitude = 151.2093\n",
    "point = Point(latitude, longitude)\n",
    "\n",
    "# Perform point-in-polygon operation to find the containing PHA\n",
    "containing_pha = pha_gdf[pha_gdf.geometry.contains(point)]\n",
    "\n",
    "# Get relevant information about the PHA\n",
    "if not containing_pha.empty:\n",
    "    pha_name = containing_pha.iloc[0]['LGA_NAME']\n",
    "    # Further processing or analysis with the PHA information\n",
    "    print(\"The coordinates belong to PHA:\", pha_name)\n",
    "else:\n",
    "    print(\"No matching PHA found for the coordinates.\")"
   ]
  },
  {
   "cell_type": "code",
   "execution_count": null,
   "metadata": {},
   "outputs": [],
   "source": []
  }
 ],
 "metadata": {
  "kernelspec": {
   "display_name": "Python 3",
   "language": "python",
   "name": "python3"
  },
  "language_info": {
   "codemirror_mode": {
    "name": "ipython",
    "version": 3
   },
   "file_extension": ".py",
   "mimetype": "text/x-python",
   "name": "python",
   "nbconvert_exporter": "python",
   "pygments_lexer": "ipython3",
   "version": "3.9.6"
  }
 },
 "nbformat": 4,
 "nbformat_minor": 2
}
