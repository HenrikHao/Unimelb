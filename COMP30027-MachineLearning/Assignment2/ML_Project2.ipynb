{
 "cells": [
  {
   "attachments": {},
   "cell_type": "markdown",
   "metadata": {},
   "source": [
    "# **Read Training and Testing Dataset**"
   ]
  },
  {
   "cell_type": "code",
   "execution_count": null,
   "metadata": {},
   "outputs": [],
   "source": [
    "import pandas as pd\n",
    "import numpy as np\n",
    "from sklearn.preprocessing import StandardScaler, OneHotEncoder\n",
    "from sklearn.feature_extraction.text import CountVectorizer, TfidfVectorizer\n",
    "from scipy.sparse import hstack\n",
    "from sklearn.model_selection import train_test_split, cross_val_score\n",
    "from sklearn.linear_model import LogisticRegression\n",
    "from sklearn.metrics import accuracy_score, classification_report, ConfusionMatrixDisplay, confusion_matrix\n",
    "from sklearn.svm import SVC\n",
    "from sklearn.ensemble import RandomForestClassifier, StackingClassifier\n",
    "import matplotlib.pyplot as plt\n",
    "from sklearn.model_selection import GridSearchCV\n",
    "import scipy\n",
    "from sklearn.decomposition import TruncatedSVD\n",
    "from sklearn.decomposition import PCA"
   ]
  },
  {
   "cell_type": "code",
   "execution_count": null,
   "metadata": {},
   "outputs": [],
   "source": [
    "train = pd.read_csv(\"project_data_files/book_rating_train.csv\")\n",
    "test = pd.read_csv(\"project_data_files/book_rating_test.csv\")"
   ]
  },
  {
   "attachments": {},
   "cell_type": "markdown",
   "metadata": {},
   "source": [
    "# **Feature Selection**"
   ]
  },
  {
   "cell_type": "code",
   "execution_count": null,
   "metadata": {
    "id": "kNU-Y7nEily8"
   },
   "outputs": [],
   "source": [
    "import re\n",
    "def preprocess_text(text):\n",
    "    # Remove punctuation, lowercase, and split text into words\n",
    "    words = re.sub(r'\\W+', ' ', text.lower()).split()\n",
    "    return ' '.join(words)\n",
    "\n",
    "train['preprocessed_name'] = train['Name'].apply(preprocess_text)\n",
    "train['preprocessed_authors'] = train['Authors'].apply(preprocess_text)\n",
    "train['preprocessed_description'] = train['Description'].apply(preprocess_text)\n"
   ]
  },
  {
   "cell_type": "code",
   "execution_count": null,
   "metadata": {},
   "outputs": [],
   "source": [
    "low_rating = train.loc[train['rating_label'] == 3.0].index\n",
    "med_rating = train.loc[train['rating_label'] == 4.0].index\n",
    "high_rating = train.loc[train['rating_label'] == 5.0].index"
   ]
  },
  {
   "cell_type": "code",
   "execution_count": null,
   "metadata": {
    "id": "NVrtiZ9RjsXg"
   },
   "outputs": [],
   "source": [
    "# Load pretrained GloVe embeddings\n",
    "def load_glove_embeddings(file_path, embedding_dim=50):\n",
    "    embeddings = {}\n",
    "    with open(file_path, 'r', encoding='utf-8') as f:\n",
    "        for line in f:\n",
    "            values = line.strip().split()\n",
    "            word = values[0]\n",
    "            vector = np.asarray(values[1:], dtype='float32')\n",
    "            embeddings[word] = vector\n",
    "    return embeddings\n",
    "\n",
    "glove = load_glove_embeddings(\"glove.6B.50d.txt\", embedding_dim=50)\n",
    "\n",
    "def average_glove_embedding(text, embedding_model, embedding_size=50):\n",
    "    words = text.split()\n",
    "    word_embeddings = []\n",
    "\n",
    "    for word in words:\n",
    "        if word in embedding_model:\n",
    "            word_embeddings.append(embedding_model[word])\n",
    "\n",
    "    if not word_embeddings:\n",
    "        return np.zeros(embedding_size)\n",
    "\n",
    "    word_embeddings = [embedding for embedding in word_embeddings if embedding.shape == (embedding_size,)]\n",
    "\n",
    "    if not word_embeddings:\n",
    "        return np.zeros(embedding_size)\n",
    "\n",
    "    return np.mean(word_embeddings, axis=0)\n",
    "\n",
    "name_vec_glove = np.array([average_glove_embedding(text, glove) for text in train['preprocessed_name']])\n",
    "authors_vec_glove = np.array([average_glove_embedding(text, glove) for text in train['preprocessed_authors']])\n",
    "desc_vec_glove = np.array([average_glove_embedding(text, glove) for text in train['preprocessed_description']])\n"
   ]
  },
  {
   "cell_type": "code",
   "execution_count": null,
   "metadata": {
    "id": "3b253Jm2j5bF"
   },
   "outputs": [],
   "source": [
    "def reduce_dimensionality_PCA(embeddings, n_components=2):\n",
    "    pca = PCA(n_components=n_components)\n",
    "    reduced_embeddings = pca.fit_transform(embeddings)\n",
    "    return reduced_embeddings\n",
    "\n",
    "\n",
    "def reduce_dimensionality_SVD(embeddings, n_components=2):\n",
    "    svd = TruncatedSVD(n_components=n_components)\n",
    "    reduced_embeddings = svd.fit_transform(embeddings)\n",
    "    return reduced_embeddings\n",
    "\n",
    "# Load Bag-of-Words features\n",
    "name_vec_bow = scipy.sparse.load_npz('project_data_files/book_text_features_countvec/train_name_vec.npz')\n",
    "authors_vec_bow = scipy.sparse.load_npz('project_data_files/book_text_features_countvec/train_authors_vec.npz')\n",
    "desc_vec_bow = scipy.sparse.load_npz('project_data_files/book_text_features_countvec/train_desc_vec.npz')\n",
    "\n",
    "# Load Doc2Vec features\n",
    "name_doc2vec = pd.read_csv(\"project_data_files/book_text_features_doc2vec/train_name_doc2vec100.csv\", index_col=False, delimiter=',', header=None)\n",
    "authors_doc2vec = pd.read_csv(\"project_data_files/book_text_features_doc2vec/train_authors_doc2vec20.csv\", index_col=False, delimiter=',', header=None)\n",
    "desc_doc2vec = pd.read_csv(\"project_data_files/book_text_features_doc2vec/train_desc_doc2vec100.csv\", index_col=False, delimiter=',', header=None)\n",
    "\n",
    "# Reduce dimensionality for all embeddings\n",
    "name_bow_2d = reduce_dimensionality_SVD(name_vec_bow)\n",
    "authors_bow_2d = reduce_dimensionality_SVD(authors_vec_bow)\n",
    "desc_bow_2d = reduce_dimensionality_SVD(desc_vec_bow)\n",
    "\n",
    "name_d2v_2d = reduce_dimensionality_PCA(name_doc2vec)\n",
    "authors_d2v_2d = reduce_dimensionality_PCA(authors_doc2vec)\n",
    "desc_d2v_2d = reduce_dimensionality_PCA(desc_doc2vec)\n",
    "\n",
    "name_glove_2d = reduce_dimensionality_PCA(name_vec_glove)\n",
    "authors_glove_2d = reduce_dimensionality_PCA(authors_vec_glove)\n",
    "desc_glove_2d = reduce_dimensionality_PCA(desc_vec_glove)\n"
   ]
  },
  {
   "cell_type": "code",
   "execution_count": null,
   "metadata": {
    "colab": {
     "base_uri": "https://localhost:8080/",
     "height": 1000
    },
    "id": "MvYxjpVLkiwC",
    "outputId": "b55289b7-48ac-497d-d09f-f620058c2b3d"
   },
   "outputs": [],
   "source": [
    "def plot_embeddings(dataset_reduced, title):\n",
    "    plt.scatter(dataset_reduced[high_rating, 0], dataset_reduced[high_rating, 1], c='green',\n",
    "                    s=1, label='5')\n",
    "    plt.scatter(dataset_reduced[med_rating, 0], dataset_reduced[med_rating, 1],  c='blue',\n",
    "                    s=1, label='4')\n",
    "    plt.scatter(dataset_reduced[low_rating, 0], dataset_reduced[low_rating, 1],  c='red',\n",
    "                    s=1, label='3')\n",
    "\n",
    "    plt.title(title)\n",
    "    plt.show()\n",
    "\n",
    "# Visualize the 2D embeddings for each text feature and method\n",
    "plot_embeddings(name_bow_2d, 'Name - Bag of Words')\n",
    "plot_embeddings(name_d2v_2d, 'Name - Doc2Vec')\n",
    "plot_embeddings(name_glove_2d, 'Name - GloVe')\n",
    "\n",
    "plot_embeddings(authors_bow_2d, 'Authors - Bag of Words')\n",
    "plot_embeddings(authors_d2v_2d, 'Authors - Doc2Vec')\n",
    "plot_embeddings(authors_glove_2d, 'Authors - GloVe')\n",
    "\n",
    "plot_embeddings(desc_bow_2d, 'Description - Bag of Words')\n",
    "plot_embeddings(desc_d2v_2d, 'Description - Doc2Vec')\n",
    "plot_embeddings(desc_glove_2d, 'Description - GloVe')\n"
   ]
  },
  {
   "attachments": {},
   "cell_type": "markdown",
   "metadata": {
    "id": "0hV38hnhi4BZ"
   },
   "source": [
    "# **Preprocessing**"
   ]
  },
  {
   "cell_type": "code",
   "execution_count": null,
   "metadata": {
    "id": "0o8ViwAKXfuq"
   },
   "outputs": [],
   "source": [
    "# Load Doc2Vec features\n",
    "name_doc2vec = pd.read_csv(\"project_data_files/book_text_features_doc2vec/train_name_doc2vec100.csv\", index_col=False, delimiter=',', header=None)\n",
    "authors_doc2vec = pd.read_csv(\"project_data_files/book_text_features_doc2vec/train_authors_doc2vec20.csv\", index_col=False, delimiter=',', header=None)\n",
    "desc_doc2vec = pd.read_csv(\"project_data_files/book_text_features_doc2vec/train_desc_doc2vec100.csv\", index_col=False, delimiter=',', header=None)\n",
    "\n",
    "name_doc2vec_matrix= name_doc2vec.values\n",
    "authors_doc2vec_matrix = authors_doc2vec.values\n",
    "desc_doc2vec_matrix= desc_doc2vec.values"
   ]
  },
  {
   "cell_type": "code",
   "execution_count": null,
   "metadata": {
    "id": "fFj-a3jfalvT"
   },
   "outputs": [],
   "source": [
    "# Handle missing values\n",
    "train = train.fillna('')\n",
    "\n",
    "# Extract the numeric features\n",
    "numeric_features = train[['PublishYear', 'PublishMonth', 'PublishDay', 'pagesNumber']]\n",
    "\n",
    "# Scale the numeric features\n",
    "scaler = StandardScaler()\n",
    "scaled_numeric_features = scaler.fit_transform(numeric_features)\n",
    "\n",
    "# One-hot encode categorical features (Publisher, Language)\n",
    "cat_features = train[['Publisher']]\n",
    "encoder = OneHotEncoder(handle_unknown='ignore')\n",
    "encoded_cat_features = encoder.fit_transform(cat_features)\n"
   ]
  },
  {
   "cell_type": "code",
   "execution_count": null,
   "metadata": {
    "id": "JKtAgN8jqy9b"
   },
   "outputs": [],
   "source": [
    "# Combine all preprocessed features\n",
    "preprocessed_train_data_combined = hstack([\n",
    "    scaled_numeric_features,\n",
    "    encoded_cat_features,\n",
    "    name_doc2vec_matrix, authors_doc2vec_matrix, desc_doc2vec_matrix\n",
    "])\n",
    "# Extract the target variable\n",
    "target = train['rating_label']"
   ]
  },
  {
   "cell_type": "code",
   "execution_count": null,
   "metadata": {
    "colab": {
     "base_uri": "https://localhost:8080/"
    },
    "id": "h-oaWW6malhK",
    "outputId": "f3ad7f6f-2dd8-440c-caf1-16d31ceeb905"
   },
   "outputs": [],
   "source": [
    "# Convert the sparse matrix to a numpy array\n",
    "train_data = preprocessed_train_data_combined.toarray()\n"
   ]
  },
  {
   "attachments": {},
   "cell_type": "markdown",
   "metadata": {
    "id": "6-PUYbaztrPg"
   },
   "source": [
    "# **Spiliting dataset to training set and validation set**"
   ]
  },
  {
   "cell_type": "code",
   "execution_count": null,
   "metadata": {
    "id": "rFvIZD_4ujrw"
   },
   "outputs": [],
   "source": [
    "from sklearn.model_selection import train_test_split\n",
    "\n",
    "x_train, x_val, y_train, y_val = train_test_split(train_data, target, test_size=0.2, random_state=42)\n"
   ]
  },
  {
   "attachments": {},
   "cell_type": "markdown",
   "metadata": {},
   "source": [
    "# **Preprocess for test data**"
   ]
  },
  {
   "cell_type": "code",
   "execution_count": null,
   "metadata": {},
   "outputs": [],
   "source": [
    "# Load Doc2Vec features\n",
    "name_doc2vec_test = pd.read_csv(\"project_data_files/book_text_features_doc2vec/test_name_doc2vec100.csv\", index_col=False, delimiter=',', header=None)\n",
    "authors_doc2vec_test = pd.read_csv(\"project_data_files/book_text_features_doc2vec/test_authors_doc2vec20.csv\", index_col=False, delimiter=',', header=None)\n",
    "desc_doc2vec_test = pd.read_csv(\"project_data_files/book_text_features_doc2vec/test_desc_doc2vec100.csv\", index_col=False, delimiter=',', header=None)\n",
    "\n",
    "test = test.fillna('')\n",
    "\n",
    "# Convert Doc2Vec DataFrames to sparse matrices\n",
    "name_doc2vec_matrix_test = name_doc2vec_test.values\n",
    "authors_doc2vec_matrix_test = authors_doc2vec_test.values\n",
    "desc_doc2vec_matrix_test = desc_doc2vec_test.values\n",
    "\n",
    "numeric_features_test = test[['PublishYear', 'PublishMonth', 'PublishDay', 'pagesNumber']]\n",
    "cat_features_test = test[['Publisher']]\n",
    "\n",
    "scaled_numeric_features_test = scaler.transform(numeric_features_test)\n",
    "encoded_cat_features_test = encoder.transform(cat_features_test)\n",
    "\n",
    "preprocessed_test_data_combined = hstack([\n",
    "    scaled_numeric_features_test,\n",
    "    encoded_cat_features_test,\n",
    "    name_doc2vec_matrix_test, authors_doc2vec_matrix_test, desc_doc2vec_matrix_test\n",
    "])\n",
    "\n",
    "test_data = preprocessed_test_data_combined.toarray()\n"
   ]
  },
  {
   "attachments": {},
   "cell_type": "markdown",
   "metadata": {},
   "source": [
    "# **Zero R baseline**"
   ]
  },
  {
   "cell_type": "code",
   "execution_count": null,
   "metadata": {},
   "outputs": [],
   "source": [
    "ids = list(range(1, 5767)) \n",
    "\n",
    "# predictions are 4.0 for all labels\n",
    "predictions = [4.0] * len(ids)\n",
    "\n",
    "# Create a DataFrame\n",
    "submission = pd.DataFrame({\n",
    "    'Id': ids,\n",
    "    'rating_label': predictions\n",
    "})\n",
    "\n",
    "# Write the DataFrame to a CSV file\n",
    "submission.to_csv('results/zero-r baseline.csv', index=False)\n"
   ]
  },
  {
   "attachments": {},
   "cell_type": "markdown",
   "metadata": {
    "id": "CnuDNRiwuFUl"
   },
   "source": [
    "# **LogisticRegression base**"
   ]
  },
  {
   "cell_type": "code",
   "execution_count": null,
   "metadata": {
    "id": "DBLT7OqBkf6E"
   },
   "outputs": [],
   "source": [
    "# Create a Logistic Regression model\n",
    "logistic_model = LogisticRegression(max_iter=1000)\n",
    "\n",
    "# Perform 5-fold cross-validation on the training data and print the mean accuracy\n",
    "scores = cross_val_score(logistic_model, x_train, y_train, cv=5)\n",
    "print(\"Cross-validated accuracy:\", scores.mean())\n",
    "\n",
    "# Fit the model on the whole training data\n",
    "logistic_model.fit(x_train, y_train)\n",
    "\n",
    "# Make predictions on the validation set\n",
    "y_pred = logistic_model.predict(x_val)\n",
    "\n",
    "# Calculate and print the accuracy on the validation set\n",
    "accuracy = accuracy_score(y_val, y_pred)\n",
    "print(\"Validation set accuracy:\", accuracy)\n",
    "\n",
    "# Print the classification report for the validation set\n",
    "report = classification_report(y_val, y_pred)\n",
    "print(\"Classification report:\\n\", report)"
   ]
  },
  {
   "attachments": {},
   "cell_type": "markdown",
   "metadata": {
    "id": "I0j63wIxxxwr"
   },
   "source": [
    "## **Tune hyperparameters**"
   ]
  },
  {
   "cell_type": "code",
   "execution_count": null,
   "metadata": {
    "colab": {
     "base_uri": "https://localhost:8080/",
     "height": 389
    },
    "id": "O07_9XC0xxE2",
    "outputId": "4a933058-bda6-4b73-8e0a-c6962f2a7c40"
   },
   "outputs": [],
   "source": [
    "# Define the hyperparameters to be tuned\n",
    "param_grid = {\n",
    "    'C': np.logspace(-4, 4, 20),  # Inverse of regularization strength\n",
    "    'penalty': ['l1', 'l2'],      # Regularization type: L1 or L2\n",
    "    'solver': ['liblinear']       # Solver to be used for L1 and L2 penalties\n",
    "}\n",
    "\n",
    "# Create the Logistic Regression model\n",
    "logreg = LogisticRegression(max_iter=1000)\n",
    "\n",
    "# Create the GridSearchCV object with cross-validation\n",
    "grid_search = GridSearchCV(logreg, param_grid, cv=5, scoring='accuracy', n_jobs=-1)\n",
    "\n",
    "# Fit the GridSearchCV object on the training data\n",
    "grid_search.fit(x_train, y_train)\n",
    "\n",
    "# Print the best hyperparameters found\n",
    "print(\"Best hyperparameters:\", grid_search.best_params_)\n",
    "\n",
    "# Print the best score (accuracy) achieved with the best hyperparameters\n",
    "print(\"Best accuracy:\", grid_search.best_score_)\n",
    "\n",
    "# Retrieve the best model\n",
    "best_model = grid_search.best_estimator_\n",
    "\n",
    "# Evaluate the best model on the validation set\n",
    "y_pred = best_model.predict(x_val)\n",
    "accuracy = accuracy_score(y_val, y_pred)\n",
    "print(\"Accuracy on validation set:\", accuracy)\n",
    "report = classification_report(y_val, y_pred)\n",
    "print(\"Classification report:\\n\", report)\n"
   ]
  },
  {
   "cell_type": "code",
   "execution_count": null,
   "metadata": {},
   "outputs": [],
   "source": [
    "cm = confusion_matrix(y_val, y_pred)\n",
    "# Normalize by row (actual classes)\n",
    "cm_norm = cm.astype('float') / cm.sum(axis=1)[:, np.newaxis]\n",
    "\n",
    "disp = ConfusionMatrixDisplay(confusion_matrix=cm_norm, \n",
    "                              display_labels=['3.0', '4.0', '5.0'])\n",
    "disp.plot(cmap=plt.cm.Blues)\n",
    "plt.show()"
   ]
  },
  {
   "cell_type": "code",
   "execution_count": null,
   "metadata": {
    "id": "Ip6EWjBkWECa"
   },
   "outputs": [],
   "source": [
    "best_MLR = LogisticRegression(C=0.615848211066026, penalty='l2', solver='liblinear')\n",
    "best_MLR.fit(np.concatenate([x_train, x_val]), np.concatenate([y_train, y_val])) \n",
    "final_p = best_MLR.predict(test_data)\n",
    "# Convert all numbers in the array to integers\n",
    "predictions_int = np.round(final_p).astype(float)\n",
    "\n",
    "# Create a DataFrame from the converted prediction array\n",
    "predictions_df = pd.DataFrame(predictions_int, columns=['rating_label'])\n",
    "\n",
    "# Add an ID column to the DataFrame\n",
    "predictions_df.insert(0, 'ID', range(1, len(predictions_df) + 1))\n",
    "predictions_df.to_csv(\"results/MLR.csv\", index = False)"
   ]
  },
  {
   "attachments": {},
   "cell_type": "markdown",
   "metadata": {
    "id": "nJjwPvITyj_A"
   },
   "source": [
    "# **RandomForest**"
   ]
  },
  {
   "attachments": {},
   "cell_type": "markdown",
   "metadata": {
    "id": "nZkl2p-8aHGm"
   },
   "source": [
    "## **randomForest base**"
   ]
  },
  {
   "cell_type": "code",
   "execution_count": null,
   "metadata": {
    "colab": {
     "base_uri": "https://localhost:8080/"
    },
    "id": "iDIWH9aIyh9k",
    "outputId": "d9e4c0b3-fdbf-4401-9a86-bf0b837ec106"
   },
   "outputs": [],
   "source": [
    "# Create a Random Forest model\n",
    "rf = RandomForestClassifier(n_estimators=100, random_state=42)\n",
    "\n",
    "# Train the model using the training data\n",
    "rf.fit(x_train, y_train)\n",
    "\n",
    "# Make predictions on the validation set\n",
    "y_pred = rf.predict(x_val)\n",
    "\n",
    "# Calculate the accuracy\n",
    "accuracy = accuracy_score(y_val, y_pred)\n",
    "print(\"Accuracy:\", accuracy)\n",
    "\n",
    "# Print the classification report\n",
    "report = classification_report(y_val, y_pred)\n",
    "print(\"Classification report:\\n\", report)\n"
   ]
  },
  {
   "attachments": {},
   "cell_type": "markdown",
   "metadata": {
    "id": "JXXZbvWqaMEm"
   },
   "source": [
    "## **randomForest + grid search**"
   ]
  },
  {
   "cell_type": "code",
   "execution_count": null,
   "metadata": {
    "colab": {
     "base_uri": "https://localhost:8080/"
    },
    "id": "qEr7hgtOaGiv",
    "outputId": "bb1973dd-f823-4b36-fcc7-38abb12e4cf2"
   },
   "outputs": [],
   "source": [
    "# Define the parameter\n",
    "param_grid = {\n",
    "    'n_estimators': [100, 200, 300, 400, 500],\n",
    "    'max_features': ['sqrt', 'log2']\n",
    "}\n",
    "\n",
    "# Create a RandomForestClassifier\n",
    "rf = RandomForestClassifier()\n",
    "\n",
    "# Create the GridSearchCV object\n",
    "grid_search = GridSearchCV(estimator=rf, param_grid=param_grid, cv=5)\n",
    "\n",
    "# Fit the GridSearchCV object to the data\n",
    "grid_search.fit(x_train, y_train)\n",
    "\n",
    "best_rf = grid_search.best_estimator_\n",
    "# Get the best parameters\n",
    "best_params_rf = grid_search.best_params_\n",
    "print(\"Best parameters: \", best_params_rf)\n",
    "\n",
    "y_pred = best_rf.predict(x_val)\n",
    "accuracy = accuracy_score(y_val, y_pred)\n",
    "print(\"Accuracy on validation set:\", accuracy)\n",
    "\n",
    "report = classification_report(y_val, y_pred)\n",
    "print(\"Classification report:\\n\", report)\n"
   ]
  },
  {
   "cell_type": "code",
   "execution_count": null,
   "metadata": {},
   "outputs": [],
   "source": [
    "# Convert the grid search results into a pandas DataFrame\n",
    "results = pd.DataFrame(grid_search.cv_results_)\n",
    "subset = results[['mean_fit_time','params','mean_test_score']]\n",
    "subset"
   ]
  },
  {
   "cell_type": "code",
   "execution_count": null,
   "metadata": {},
   "outputs": [],
   "source": [
    "cm = confusion_matrix(y_val, y_pred)\n",
    "# Normalize by row (actual classes)\n",
    "cm_norm = cm.astype('float') / cm.sum(axis=1)[:, np.newaxis]\n",
    "\n",
    "disp = ConfusionMatrixDisplay(confusion_matrix=cm_norm, \n",
    "                              display_labels=['3.0', '4.0', '5.0'])\n",
    "disp.plot(cmap=plt.cm.Blues)\n",
    "plt.show()"
   ]
  },
  {
   "cell_type": "code",
   "execution_count": null,
   "metadata": {},
   "outputs": [],
   "source": [
    "best_RF = RandomForestClassifier(max_features= 'sqrt', n_estimators= 200)\n",
    "best_RF.fit(np.concatenate([x_train, x_val]), np.concatenate([y_train, y_val])) \n",
    "final_p = best_RF.predict(test_data)\n",
    "# Convert all numbers in the array to integers\n",
    "predictions_int = np.round(final_p).astype(float)\n",
    "\n",
    "# Create a DataFrame from the converted prediction array\n",
    "predictions_df = pd.DataFrame(predictions_int, columns=['rating_label'])\n",
    "\n",
    "# Add an ID column to the DataFrame\n",
    "predictions_df.insert(0, 'ID', range(1, len(predictions_df) + 1))\n",
    "predictions_df.to_csv(\"results/RF.csv\", index = False)"
   ]
  },
  {
   "attachments": {},
   "cell_type": "markdown",
   "metadata": {
    "id": "VVaHqudHpxgT"
   },
   "source": [
    "# **SVM**"
   ]
  },
  {
   "cell_type": "code",
   "execution_count": null,
   "metadata": {
    "id": "sfEekZ-rZKx8"
   },
   "outputs": [],
   "source": [
    "# Create a SVM with linear kernel\n",
    "svm = SVC(kernel='linear')\n",
    "\n",
    "\n",
    "# Train the classifier\n",
    "svm.fit(x_train, y_train)\n",
    "\n",
    "# Make predictions\n",
    "y_pred = svm.predict(x_val)\n",
    "\n",
    "# Compute accuracy\n",
    "accuracy = accuracy_score(y_val, y_pred)\n",
    "print('Accuracy:', accuracy)\n",
    "\n",
    "report = classification_report(y_val, y_pred)\n",
    "print(\"Classification report:\\n\", report)"
   ]
  },
  {
   "cell_type": "code",
   "execution_count": null,
   "metadata": {},
   "outputs": [],
   "source": [
    "cm = confusion_matrix(y_val, y_pred)\n",
    "# Normalize by row (actual classes)\n",
    "cm_norm = cm.astype('float') / cm.sum(axis=1)[:, np.newaxis]\n",
    "\n",
    "disp = ConfusionMatrixDisplay(confusion_matrix=cm_norm, \n",
    "                              display_labels=['3.0', '4.0', '5.0'])\n",
    "disp.plot(cmap=plt.cm.Blues)\n",
    "plt.show()"
   ]
  },
  {
   "cell_type": "code",
   "execution_count": null,
   "metadata": {},
   "outputs": [],
   "source": [
    "from sklearn.svm import SVC\n",
    "from sklearn.multiclass import OneVsRestClassifier\n",
    "# Create a SVM with poly kernel\n",
    "svm_polynomial = SVC(kernel='poly')\n",
    "\n",
    "# Train the classifier\n",
    "svm_polynomial.fit(x_train, y_train)\n",
    "\n",
    "# Make predictions\n",
    "y_pred = svm_polynomial.predict(x_val)\n",
    "\n",
    "# Compute accuracy\n",
    "accuracy = accuracy_score(y_val, y_pred)\n",
    "print('Accuracy:', accuracy)\n",
    "\n",
    "report = classification_report(y_val, y_pred)\n",
    "print(\"Classification report:\\n\", report)"
   ]
  },
  {
   "cell_type": "code",
   "execution_count": null,
   "metadata": {},
   "outputs": [],
   "source": [
    "cm = confusion_matrix(y_val, y_pred)\n",
    "# Normalize by row (actual classes)\n",
    "cm_norm = cm.astype('float') / cm.sum(axis=1)[:, np.newaxis]\n",
    "\n",
    "disp = ConfusionMatrixDisplay(confusion_matrix=cm_norm, \n",
    "                              display_labels=['3.0', '4.0', '5.0'])\n",
    "disp.plot(cmap=plt.cm.Blues)\n",
    "plt.show()"
   ]
  },
  {
   "cell_type": "code",
   "execution_count": null,
   "metadata": {},
   "outputs": [],
   "source": [
    "# Create a SVM with rbf kernel\n",
    "svm_rbf = SVC(kernel='rbf')\n",
    "\n",
    "# Train the classifier\n",
    "svm_rbf.fit(x_train, y_train)\n",
    "\n",
    "# Make predictions\n",
    "y_pred = svm_rbf.predict(x_val)\n",
    "\n",
    "# Compute accuracy\n",
    "accuracy = accuracy_score(y_val, y_pred)\n",
    "print('Accuracy:', accuracy)\n",
    "\n",
    "report = classification_report(y_val, y_pred)\n",
    "print(\"Classification report:\\n\", report)"
   ]
  },
  {
   "cell_type": "code",
   "execution_count": null,
   "metadata": {},
   "outputs": [],
   "source": [
    "cm = confusion_matrix(y_val, y_pred)\n",
    "# Normalize by row (actual classes)\n",
    "cm_norm = cm.astype('float') / cm.sum(axis=1)[:, np.newaxis]\n",
    "\n",
    "disp = ConfusionMatrixDisplay(confusion_matrix=cm_norm, \n",
    "                              display_labels=['3.0', '4.0', '5.0'])\n",
    "disp.plot(cmap=plt.cm.Blues)\n",
    "plt.show()"
   ]
  },
  {
   "cell_type": "code",
   "execution_count": null,
   "metadata": {},
   "outputs": [],
   "source": [
    "# Define the parameter ranges\n",
    "param_grid = {'C': [0.1, 1, 10, 100, 1000]}\n",
    "\n",
    "# Create a SVM with rbf kernel\n",
    "rbfsvm = SVC(kernel='rbf')\n",
    "\n",
    "# Grid search\n",
    "grid = GridSearchCV(rbfsvm, param_grid, refit=True, verbose=2, cv=5)  # You can adjust the level of verbosity and the cv parameter which stands for cross-validation splitting strategy\n",
    "\n",
    "# Fitting the model for grid search\n",
    "grid.fit(x_train, y_train)\n",
    "\n",
    "# Print best parameter after tuning\n",
    "print(grid.best_params_)\n",
    "\n",
    "# Print how our model looks after hyper-parameter tuning\n",
    "print(grid.best_estimator_)\n",
    "\n",
    "grid_predictions = grid.predict(x_val)\n",
    "\n",
    "# Compute accuracy\n",
    "accuracy = accuracy_score(y_val, grid_predictions)\n",
    "print('Accuracy:', accuracy)\n",
    "\n",
    "report = classification_report(y_val, grid_predictions)\n",
    "print(\"Classification report:\\n\", report)"
   ]
  },
  {
   "cell_type": "code",
   "execution_count": null,
   "metadata": {},
   "outputs": [],
   "source": [
    "best_svm = SVC(kernel='rbf', C=1)\n",
    "best_svm.fit(np.concatenate([x_train, x_val]), np.concatenate([y_train, y_val])) \n",
    "final_p = best_svm.predict(test_data)\n",
    "# Convert all numbers in the array to integers\n",
    "predictions_int = np.round(final_p).astype(float)\n",
    "\n",
    "# Create a DataFrame from the converted prediction array\n",
    "predictions_df = pd.DataFrame(predictions_int, columns=['rating_label'])\n",
    "\n",
    "# Add an ID column to the DataFrame\n",
    "predictions_df.insert(0, 'ID', range(1, len(predictions_df) + 1))\n",
    "predictions_df.to_csv(\"results/svm.csv\", index = False)"
   ]
  },
  {
   "attachments": {},
   "cell_type": "markdown",
   "metadata": {},
   "source": [
    "# **Stacking**"
   ]
  },
  {
   "cell_type": "code",
   "execution_count": null,
   "metadata": {},
   "outputs": [],
   "source": [
    "level0 = list()\n",
    "level0.append(('svm', SVC(C=1, kernel='rbf')))\n",
    "level0.append(('rf', RandomForestClassifier(max_features= 'sqrt', n_estimators= 200)))\n",
    "\n",
    "level1 = LogisticRegression(C=0.615848211066026, penalty='l2', solver='liblinear')\n",
    "stackmodel = StackingClassifier(estimators=level0, final_estimator=level1, cv=5)\n",
    "\n",
    "# Fit the model on all available data\n",
    "stackmodel.fit(x_train, y_train)\n",
    "\n",
    "# Make a prediction for one example\n",
    "y_pred = stackmodel.predict(x_val)\n",
    "\n",
    "\n",
    "# Compute accuracy\n",
    "accuracy = accuracy_score(y_val, y_pred)\n",
    "print('Accuracy:', accuracy)\n",
    "\n",
    "report = classification_report(y_val, y_pred)\n",
    "print(\"Classification report:\\n\", report)"
   ]
  },
  {
   "cell_type": "code",
   "execution_count": null,
   "metadata": {},
   "outputs": [],
   "source": [
    "stackmodel.fit(np.concatenate([x_train, x_val]), np.concatenate([y_train, y_val])) \n",
    "final_p = stackmodel.predict(test_data)\n",
    "# Convert all numbers in the array to integers\n",
    "predictions_int = np.round(final_p).astype(float)\n",
    "\n",
    "# Create a DataFrame from the converted prediction array\n",
    "predictions_df = pd.DataFrame(predictions_int, columns=['rating_label'])\n",
    "\n",
    "# Add an ID column to the DataFrame\n",
    "predictions_df.insert(0, 'ID', range(1, len(predictions_df) + 1))\n",
    "predictions_df.to_csv(\"results/stackmodel.csv\", index = False)"
   ]
  },
  {
   "attachments": {},
   "cell_type": "markdown",
   "metadata": {},
   "source": [
    "# **AutoML this is just for comparing result, not counted as one of our models**"
   ]
  },
  {
   "cell_type": "code",
   "execution_count": null,
   "metadata": {},
   "outputs": [],
   "source": [
    "import autogluon\n",
    "from autogluon.tabular import TabularDataset, TabularPredictor\n",
    "# code in this cell is about training the model from AutoML, we have saved the pre-trained model in /AutogluonModels\n",
    "train_data = TabularDataset('project_data_files/book_rating_train.csv')\n",
    "test_data = TabularDataset('project_data_files/book_rating_test.csv')\n",
    "\n",
    "predictor = TabularPredictor(label='rating_label').fit(train_data=train_data, presets='best_quality')"
   ]
  },
  {
   "cell_type": "code",
   "execution_count": null,
   "metadata": {},
   "outputs": [],
   "source": [
    "predictions_int = np.round(predictions).astype(float)\n",
    "\n",
    "# Create a DataFrame from the converted prediction array\n",
    "predictions_df = pd.DataFrame(predictions_int, columns=['rating_label'])\n",
    "\n",
    "# Add an ID column to the DataFrame\n",
    "predictions_df.insert(0, 'ID', range(1, len(predictions_df) + 1))\n",
    "predictions_df.to_csv(\"results/automl.csv\", index = False)"
   ]
  }
 ],
 "metadata": {
  "colab": {
   "collapsed_sections": [
    "2s8Jmuec_Hm6",
    "nJjwPvITyj_A",
    "XaVXF9nNUZC0",
    "VVaHqudHpxgT"
   ],
   "machine_shape": "hm",
   "provenance": []
  },
  "gpuClass": "premium",
  "kernelspec": {
   "display_name": "Python 3 (ipykernel)",
   "language": "python",
   "name": "python3"
  },
  "language_info": {
   "codemirror_mode": {
    "name": "ipython",
    "version": 3
   },
   "file_extension": ".py",
   "mimetype": "text/x-python",
   "name": "python",
   "nbconvert_exporter": "python",
   "pygments_lexer": "ipython3",
   "version": "3.10.11"
  }
 },
 "nbformat": 4,
 "nbformat_minor": 1
}
